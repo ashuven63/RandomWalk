{
 "cells": [
  {
   "cell_type": "code",
   "execution_count": 608,
   "metadata": {
    "collapsed": false
   },
   "outputs": [],
   "source": [
    "%matplotlib inline\n",
    "from collections import defaultdict \n",
    "from __future__ import print_function\n",
    "import random\n",
    "import matplotlib\n",
    "import numpy as np\n",
    "import matplotlib.pyplot as plt\n",
    "import copy\n",
    "import operator"
   ]
  },
  {
   "cell_type": "code",
   "execution_count": 609,
   "metadata": {
    "collapsed": true
   },
   "outputs": [],
   "source": [
    "# Actions\n",
    "LEFT = (0, -1)\n",
    "RIGHT = (0, 1)\n",
    "UP = (-1, 0)\n",
    "DOWN = (1, 0)\n",
    "ACTIONS = [LEFT, RIGHT, UP, DOWN]\n",
    "# State Table \n",
    "Q = defaultdict(dict)\n",
    "# Grid Size \n",
    "M = 4\n",
    "N = 3\n",
    "# Cliff boundaries \n",
    "(cliff_start_x, cliff_start_y) = (4, 1)\n",
    "cliff_x_length, cliff_y_length = (1, 6)\n",
    "# Epsilon Value for e-greedy policy \n",
    "EPSILON = 0.1\n",
    "ALPHA = 0.7\n",
    "GAMMA = 0.5\n",
    "NO_OF_EPISODES = 500"
   ]
  },
  {
   "cell_type": "code",
   "execution_count": 610,
   "metadata": {
    "collapsed": false
   },
   "outputs": [],
   "source": [
    "def is_valid_state((i, j)):\n",
    "    if i > M or j > N or i < 1 or j < 1:\n",
    "        return False\n",
    "    return True\n",
    "def is_terminal_state((i,j)):\n",
    "    if i == M and j == N:\n",
    "        return True\n",
    "    return False\n",
    "def is_cliff_state((i,j)):\n",
    "    if i == M and j >= 2 and j < N:\n",
    "        return True\n",
    "    return False"
   ]
  },
  {
   "cell_type": "code",
   "execution_count": 611,
   "metadata": {
    "collapsed": true
   },
   "outputs": [],
   "source": [
    "def init_Q():\n",
    "    for i in range(1, M+1):\n",
    "        for j in range(1, N+1):\n",
    "            for action in ACTIONS:\n",
    "                next_state = tuple(map(operator.add, (i,j), action))\n",
    "                if is_valid_state(next_state):\n",
    "                    Q[(i,j)][action] = 0 "
   ]
  },
  {
   "cell_type": "code",
   "execution_count": 612,
   "metadata": {
    "collapsed": false
   },
   "outputs": [],
   "source": [
    "def get_action_values_from_state(state):\n",
    "    return Q[state]\n",
    "    action_values = []\n",
    "    actions = []\n",
    "    for action in ACTIONS:\n",
    "        next_state = tuple(map(operator.add, (i,j), action))\n",
    "        if is_valid_state(next_state):\n",
    "            action_values.append(Q[(i,j)][action]) \n",
    "            actions.append(action)\n",
    "    return action_values, actions"
   ]
  },
  {
   "cell_type": "code",
   "execution_count": 613,
   "metadata": {
    "collapsed": false
   },
   "outputs": [],
   "source": [
    "def epsilon_greedy((i,j)):\n",
    "    state = (i,j)\n",
    "    valid_actions = Q[state].keys()\n",
    "    max_action = max(Q[state], key=Q[state].get)\n",
    "#     print('Max action is %s' % (max_action,))\n",
    "    if random.random() < EPSILON:\n",
    "        random_action = random.choice(valid_actions)\n",
    "#         print('Chose %s' % (random_action,))\n",
    "        return random_action\n",
    "    max_action = max(Q[state], key=Q[state].get)\n",
    "#     print('Chose %s' % (max_action,))\n",
    "    return max_action"
   ]
  },
  {
   "cell_type": "code",
   "execution_count": 614,
   "metadata": {
    "collapsed": true
   },
   "outputs": [],
   "source": [
    "def take_action(S, A):\n",
    "    next_state = tuple(map(operator.add, S, A))\n",
    "    if is_cliff_state(next_state):\n",
    "        reward = -100\n",
    "    else:\n",
    "        reward = -1\n",
    "    return next_state, reward"
   ]
  },
  {
   "cell_type": "code",
   "execution_count": 615,
   "metadata": {
    "collapsed": false
   },
   "outputs": [],
   "source": [
    "def get_optimal_policy(Q):\n",
    "    S = (M, 1) # How do u select this ?\n",
    "    optimal_policy = [S]\n",
    "    while not is_terminal_state(S):\n",
    "#         actions = Q[S].keys()\n",
    "#         max_action = LEFT # Is this okay ?\n",
    "#         max_action_val = -10000000\n",
    "#         for action in actions:\n",
    "#             next_state, _ = take_action(S, action)\n",
    "#             if not next_state in optimal_policy and Q[S][action] >= max_action_val:\n",
    "#                 max_action = action\n",
    "        max_action = max(Q[S], key=Q[S].get)\n",
    "        next_state, _ = take_action(S, max_action)\n",
    "        print(\"Optimal Policy: Next State %s\",(next_state,))\n",
    "        optimal_policy.append(next_state)\n",
    "        S = next_state\n",
    "    return optimal_policy"
   ]
  },
  {
   "cell_type": "code",
   "execution_count": 616,
   "metadata": {
    "collapsed": false
   },
   "outputs": [],
   "source": [
    "def print_optimal_policy(optimal_policy):\n",
    "    for i in range(1, M+1):\n",
    "        for j in range(1, N+1):\n",
    "            if (i,j) in optimal_policy:\n",
    "                print('1\\t', end=\"\")\n",
    "            else:\n",
    "                print('0\\t', end=\"\")\n",
    "        print(\"\")"
   ]
  },
  {
   "cell_type": "code",
   "execution_count": 617,
   "metadata": {
    "collapsed": false
   },
   "outputs": [],
   "source": [
    "def sarsa():\n",
    "    init_Q()\n",
    "    episode_rewards = []\n",
    "    for i in range(NO_OF_EPISODES):\n",
    "#         print('Episode Start %s'%(i))\n",
    "        S = (M, 1)\n",
    "        A = epsilon_greedy(S)\n",
    "        total_episode_reward = 0\n",
    "        while not is_terminal_state(S):\n",
    "#             print 'In state %s' % (S,)\n",
    "            S_next, reward = take_action(S, A)\n",
    "#             print 'Received Action %s' % (A,)\n",
    "            total_episode_reward += reward\n",
    "            A_next = epsilon_greedy(S_next)\n",
    "            Q[S][A] = Q[S][A] + ALPHA*(reward + GAMMA*Q[S_next][A_next] - Q[S][A])\n",
    "            S = S_next\n",
    "            A = A_next    \n",
    "        episode_rewards.append(total_episode_reward)\n",
    "#         print('Episode End')\n",
    "    optimal_policy = get_optimal_policy(Q)\n",
    "#     for state in Q.keys():\n",
    "#         print(\"%s\"%(state,))\n",
    "#         print(\"%s\"%(Q[state],))\n",
    "    return episode_rewards, optimal_policy"
   ]
  },
  {
   "cell_type": "code",
   "execution_count": 618,
   "metadata": {
    "collapsed": false
   },
   "outputs": [
    {
     "name": "stdout",
     "output_type": "stream",
     "text": [
      "Optimal Policy: Next State %s ((3, 1),)\n",
      "Optimal Policy: Next State %s ((2, 1),)\n",
      "Optimal Policy: Next State %s ((2, 2),)\n",
      "Optimal Policy: Next State %s ((2, 3),)\n",
      "Optimal Policy: Next State %s ((3, 3),)\n",
      "Optimal Policy: Next State %s ((4, 3),)\n",
      "0\t0\t0\t\n",
      "1\t1\t1\t\n",
      "1\t0\t1\t\n",
      "1\t0\t1\t\n"
     ]
    }
   ],
   "source": [
    "episode_rewards, optimal_policy = sarsa()\n",
    "print_optimal_policy(optimal_policy)"
   ]
  },
  {
   "cell_type": "code",
   "execution_count": 619,
   "metadata": {
    "collapsed": false
   },
   "outputs": [
    {
     "data": {
      "text/plain": [
       "<matplotlib.text.Text at 0x130772c50>"
      ]
     },
     "execution_count": 619,
     "metadata": {},
     "output_type": "execute_result"
    },
    {
     "data": {
      "image/png": "[encoded data removed]",
      "text/plain": [
       "<matplotlib.figure.Figure at 0x1119e4450>"
      ]
     },
     "metadata": {},
     "output_type": "display_data"
    }
   ],
   "source": [
    "plt.plot(episode_rewards)\n",
    "plt.ylabel('Rewards')\n",
    "plt.xlabel('Episodes')"
   ]
  },
  {
   "cell_type": "code",
   "execution_count": null,
   "metadata": {
    "collapsed": true
   },
   "outputs": [],
   "source": []
  }
 ],
 "metadata": {
  "anaconda-cloud": {},
  "kernelspec": {
   "display_name": "Python [Root]",
   "language": "python",
   "name": "Python [Root]"
  },
  "language_info": {
   "codemirror_mode": {
    "name": "ipython",
    "version": 2
   },
   "file_extension": ".py",
   "mimetype": "text/x-python",
   "name": "python",
   "nbconvert_exporter": "python",
   "pygments_lexer": "ipython2",
   "version": "2.7.12"
  }
 },
 "nbformat": 4,
 "nbformat_minor": 0
}
